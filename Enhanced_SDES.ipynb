{
 "cells": [
  {
   "cell_type": "code",
   "execution_count": 1,
   "id": "a60618b1-56b0-4497-bf15-ca99b2ada1e0",
   "metadata": {},
   "outputs": [],
   "source": [
    "def getKeywordSequence(keyword):\n",
    "  sequence = []\n",
    "  for pos, ch in enumerate(keyword):\n",
    "    previousLetters = keyword[:pos]\n",
    "    newNumber = 1\n",
    "    for previousPos, previousCh in enumerate(previousLetters):\n",
    "      if previousCh > ch:\n",
    "        sequence[previousPos] += 1\n",
    "      else:\n",
    "        newNumber += 1\n",
    "    sequence.append(newNumber)\n",
    "  return sequence\n",
    "    \n",
    "def createEncMatrix(width, message):\n",
    "  r = 0\n",
    "  c = 0\n",
    "  matrix = [[]]\n",
    "  for pos, ch in enumerate(message):\n",
    "    matrix[r].append(ch)\n",
    "    c += 1\n",
    "    if c >= width:\n",
    "      c = 0\n",
    "      r += 1\n",
    "      matrix.append([])\n",
    "\n",
    "  return matrix\n",
    "    \n",
    "def encrypt(message, keyword):\n",
    "  matrix = createEncMatrix(len(keyword), message)\n",
    "  keywordSequence = getKeywordSequence(keyword)\n",
    "\n",
    "  ciphertext= \"\";\n",
    "  for num in range(len(keywordSequence)):\n",
    "    pos = keywordSequence.index(num+1)\n",
    "    for row in range(len(matrix)):\n",
    "      if len(matrix[row]) > pos:\n",
    "        ciphertext += matrix[row][pos]\n",
    "  return ciphertext\n",
    "    \n",
    "def shift_rows(matrix):\n",
    "    num_rows = len(matrix)\n",
    "    for row in range(num_rows):\n",
    "        matrix[row] = matrix[row][row:] + matrix[row][:row]\n",
    "#S-DES can only transfer 8 bits per block, so split the string into 8-bit blocks\n",
    "\n",
    "def split_string_into_8_byte_chunks_with_padding(input_string):\n",
    "    chunks = []\n",
    "\n",
    "    # Iterate through the input string in steps of 1 byte\n",
    "    for i in range(0, len(input_string), 1):\n",
    "        chunk = input_string[i:i+1]  # Get the next 1 byte\n",
    "        # Check if the chunk is less than 1 byte\n",
    "        if len(chunk) < 1:\n",
    "            # Pad the chunk with null bytes (0x00) to make it 8 bytes long\n",
    "            chunk = chunk.ljust(1, ' ')  # Using bytes for padding\n",
    "        chunks.append(chunk)  # Add the chunk to the list\n",
    "\n",
    "    return chunks\n",
    "    \n",
    "def shift_left(k, nth_shifts):\n",
    "    s = \"\"\n",
    "    for i in range(nth_shifts):\n",
    "        for j in range(1, len(k)):\n",
    "            s = s + k[j]\n",
    "        s = s + k[0]\n",
    "        k = s\n",
    "        s = \"\"\n",
    "    return k\n",
    "\n",
    "def bin2hex(s):\n",
    "    mp = {\"0000\": '0',\n",
    "          \"0001\": '1',\n",
    "          \"0010\": '2',\n",
    "          \"0011\": '3',\n",
    "          \"0100\": '4',\n",
    "          \"0101\": '5',\n",
    "          \"0110\": '6',\n",
    "          \"0111\": '7',\n",
    "          \"1000\": '8',\n",
    "          \"1001\": '9',\n",
    "          \"1010\": 'A',\n",
    "          \"1011\": 'B',\n",
    "          \"1100\": 'C',\n",
    "          \"1101\": 'D',\n",
    "          \"1110\": 'E',\n",
    "          \"1111\": 'F'}\n",
    "    hex = \"\"\n",
    "    for i in range(0, len(s), 4):\n",
    "        ch = \"\"\n",
    "        ch = ch + s[i]\n",
    "        ch = ch + s[i + 1]\n",
    "        ch = ch + s[i + 2]\n",
    "        ch = ch + s[i + 3]\n",
    "        hex = hex + mp[ch]\n",
    " \n",
    "    return hex\n",
    "    \n",
    "def hex2bin(s):\n",
    "    mp = {'0': \"0000\",\n",
    "          '1': \"0001\",\n",
    "          '2': \"0010\",\n",
    "          '3': \"0011\",\n",
    "          '4': \"0100\",\n",
    "          '5': \"0101\",\n",
    "          '6': \"0110\",\n",
    "          '7': \"0111\",\n",
    "          '8': \"1000\",\n",
    "          '9': \"1001\",\n",
    "          'A': \"1010\",\n",
    "          'B': \"1011\",\n",
    "          'C': \"1100\",\n",
    "          'D': \"1101\",\n",
    "          'E': \"1110\",\n",
    "          'F': \"1111\"}\n",
    "    bin = \"\"\n",
    "    for i in range(len(s)):\n",
    "        bin = bin + mp[s[i]]\n",
    "    return bin\n",
    "\n",
    "def hexToBinary(hexdigits):\n",
    "\tbinarydigits = \"\"\n",
    "\tfor hexdigit in hexdigits:\n",
    "\t\tbinarydigits += bin(int(hexdigit,16))[2:].zfill(4)\n",
    "\treturn binarydigits\n",
    "\n",
    "#USING TWO FUNCTIONS TO PERMUTATE JUST TO VERIFY \n",
    "def permute(k, arr, n):\n",
    "    permutation = \"\"\n",
    "    for i in range(0, n):\n",
    "        permutation = permutation + k[arr[i] - 1]\n",
    "    return permutation\n",
    "def lookup_in_sbox(bits, sbox):\n",
    "    row = int(bits[0] + bits[3], 2)\n",
    "    col = int(bits[1] + bits[2], 2)\n",
    "    return '{0:02b}'.format(sbox[row][col])\n",
    "    \n",
    "\n",
    "def left_half(bits):\n",
    "    return bits[:int((len(bits)/2))]\n",
    "\n",
    "def right_half(bits):\n",
    "    return bits[int((len(bits)/2)):]\n",
    "    \n",
    "def xor(a, b):\n",
    "    ans = \"\"\n",
    "    for i in range(len(a)):\n",
    "        if a[i] == b[i]:\n",
    "            ans = ans + \"0\"\n",
    "        else:\n",
    "            ans = ans + \"1\"\n",
    "    return ans\n",
    " \n",
    "\n"
   ]
  },
  {
   "cell_type": "markdown",
   "id": "db359338-eb52-4726-bd4f-278571651c6d",
   "metadata": {},
   "source": [
    "### Multiple Columnar Transposition Technique"
   ]
  },
  {
   "cell_type": "code",
   "execution_count": 2,
   "id": "b03375da-7391-4304-88af-8c206a8613e9",
   "metadata": {},
   "outputs": [
    {
     "name": "stdout",
     "output_type": "stream",
     "text": [
      "Fist Round: evacdeserodewir\n",
      "Second Round: ddarrveicoeeesw\n"
     ]
    }
   ],
   "source": [
    "plaintext = \"wearediscovered\"\n",
    "keyword = \"ZEBRAS\"\n",
    "\n",
    "ciphertext = encrypt(plaintext, keyword)\n",
    "print(\"Fist Round: \"  + ciphertext)\n",
    "ciphertext = encrypt(ciphertext, keyword)\n",
    "print(\"Second Round: \"  + ciphertext)"
   ]
  },
  {
   "cell_type": "markdown",
   "id": "9c455093-1beb-487d-880b-f7b98ea96c40",
   "metadata": {},
   "source": [
    "### 2) Shift Row Transformation"
   ]
  },
  {
   "cell_type": "code",
   "execution_count": 3,
   "id": "42d72a71-8dc6-4a8d-a1b8-1f367343e24d",
   "metadata": {},
   "outputs": [
    {
     "name": "stdout",
     "output_type": "stream",
     "text": [
      "Input Matrix:\n",
      " \n",
      "['d', 'd', 'a', 'r']\n",
      "['r', 'v', 'e', 'i']\n",
      "['c', 'o', 'e', 'e']\n",
      "['e', 's', 'w']\n",
      "\n",
      "Input Shift Row Matrix:\n",
      " \n",
      "['d', 'd', 'a', 'r']\n",
      "['v', 'e', 'i', 'r']\n",
      "['e', 'e', 'c', 'o']\n",
      "['e', 's', 'w']\n",
      "\n",
      "64-bit output: ddarveireecoesw\n",
      "\n",
      "Divide output in 8-bit blocks \n",
      "['d', 'd', 'a', 'r', 'v', 'e', 'i', 'r', 'e', 'e', 'c', 'o', 'e', 's', 'w']\n",
      "\n",
      "First block: d\n"
     ]
    }
   ],
   "source": [
    "# Example usage:\n",
    "matrix = createEncMatrix(4, ciphertext)\n",
    "print(\"Input Matrix:\\n \")\n",
    "for row in matrix:\n",
    "    print(row)\n",
    "# Perform a row shift\n",
    "shift_rows(matrix)\n",
    "\n",
    "# Print the modified matrix\n",
    "print(\"\\nInput Shift Row Matrix:\\n \")\n",
    "for row in matrix:\n",
    "    print(row)\n",
    "\n",
    "flat_matrix = [element for row in matrix for element in row]\n",
    "result = ''.join(flat_matrix)\n",
    "print(\"\\n64-bit output: \" + result)\n",
    "\n",
    "# Example usage:\n",
    "chunks = split_string_into_8_byte_chunks_with_padding(result)\n",
    "print(\"\\nDivide output in 8-bit blocks \")\n",
    "print(chunks)\n",
    "print(\"\\nFirst block: \" + chunks[0])"
   ]
  },
  {
   "cell_type": "markdown",
   "id": "a540e01b-7b6e-4eb8-bcbb-1b6f8f9e48db",
   "metadata": {},
   "source": [
    "### 3) SUBKEYS K1 & K2 GENERATION"
   ]
  },
  {
   "cell_type": "code",
   "execution_count": 4,
   "id": "70446c5e-f2c5-478a-8c45-ee0542a26d2f",
   "metadata": {},
   "outputs": [
    {
     "name": "stdout",
     "output_type": "stream",
     "text": [
      "10-bit key: k\n",
      "Key hexadecimal: 6b\n",
      "Key in binary: 0001101011\n",
      "Key permutation 10: 0101110100\n"
     ]
    }
   ],
   "source": [
    "perm_p10 =  [3, 5, 2, 7, 4, 10, 1, 9, 8, 6]\n",
    "perm_p8 =  [6, 3, 7, 4, 8, 5, 10, 9]\n",
    "\n",
    "key = \"k\"\n",
    "key_chunks = split_string_into_8_byte_chunks_with_padding(key)\n",
    "\n",
    "hex_key = \"\".join(hex(ord(x))[2:] for x in key_chunks[0])\n",
    "binary_key = hexToBinary(hex_key)\n",
    "\n",
    "#Padd the key if its not 10 bits\n",
    "if len(binary_key) < 10:\n",
    "    for i in range(10 - len(binary_key)):\n",
    "        binary_key = '0' + binary_key  # Pad with leading zeros\n",
    "\n",
    "print(\"10-bit key: \" + key)\n",
    "print(\"Key hexadecimal: \" + hex_key)\n",
    "print(\"Key in binary: \" + binary_key)\n",
    "\n",
    "\n",
    "#Permutate the key\n",
    "key_perm = permute(binary_key, perm_p10, 10)\n",
    "print(\"Key permutation 10: \" + key_perm)\n",
    "\n",
    "#Split key into two halves\n",
    "left_key = key_perm[0:5]\n",
    "right_key = key_perm[5:10]"
   ]
  },
  {
   "cell_type": "markdown",
   "id": "9464aab8-0d57-4c15-ad24-1843195bca87",
   "metadata": {},
   "source": [
    "#### 3.1) Perfom Circular Left Shift of 1 on both keys"
   ]
  },
  {
   "cell_type": "code",
   "execution_count": 5,
   "id": "56ed7614-ae8c-44f6-bba3-6baba9ab80c2",
   "metadata": {},
   "outputs": [
    {
     "name": "stdout",
     "output_type": "stream",
     "text": [
      "\n",
      "\tBefore Circular Shift\n",
      "\n",
      "LS-1 (L): 01011\n",
      "LS-1 (R): 10100\n",
      "\n",
      "\tCircular Left Shift 1 - 1\n",
      "LS-1 (L): 10110\n",
      "LS-1 (R): 01001\n",
      "\n",
      "Sub-key 1: 01110010\n",
      "\n",
      "\tCircular Left Shift - 2\n",
      "LS-2 (L): 11010\n",
      "LS-2 (R): 00101\n",
      "\n",
      "Sub-key 2: 00011010\n"
     ]
    }
   ],
   "source": [
    "print(\"\\n\\tBefore Circular Shift\\n\\nLS-1 (L): \" +left_key + \"\\nLS-1 (R): \" + right_key)\n",
    "\n",
    "left_key_S1 = shift_left(left_key, 1)\n",
    "right_key_S1 = shift_left(right_key, 1)\n",
    "\n",
    "print(\"\\n\\tCircular Left Shift 1 - 1\\nLS-1 (L): \" +left_key_S1 + \"\\nLS-1 (R): \" + right_key_S1)\n",
    "\n",
    "K_LF1_result = left_key_S1 + right_key_S1\n",
    "\n",
    "#Perform p8 on the 10 bits\n",
    "subkey_1 = permute(K_LF1_result, perm_p8, 8)\n",
    "print(\"\\nSub-key 1: \" + subkey_1)\n",
    "\n",
    "#Go back to initial LS1 halves and perform a circular left shift 2 on both halves\n",
    "left_key_S2 = shift_left(left_key_S1, 2)\n",
    "right_key_S2 = shift_left(right_key_S1, 2)\n",
    "\n",
    "print(\"\\n\\tCircular Left Shift - 2\\nLS-2 (L): \" + left_key_S2 + \"\\nLS-2 (R): \" + right_key_S2)\n",
    "K_LF2_result = left_key_S2 + right_key_S2\n",
    "subkey_2 = permute(K_LF2_result, perm_p8, 8)\n",
    "print(\"\\nSub-key 2: \" + subkey_2)"
   ]
  },
  {
   "cell_type": "markdown",
   "id": "28e0a0f8-140d-489d-a338-adafc7367eb0",
   "metadata": {},
   "source": [
    "### Now that both keys have been generated, continue with the S-DES IP"
   ]
  },
  {
   "cell_type": "code",
   "execution_count": 6,
   "id": "cfc5cace-f622-469a-8148-376c9c50050b",
   "metadata": {},
   "outputs": [
    {
     "name": "stdout",
     "output_type": "stream",
     "text": [
      "Block being encrypted: d\n",
      "Block in hexadecimal: 64\n",
      "Block in binary: 01100100\n"
     ]
    }
   ],
   "source": [
    "#Initial Permutation only inputs binary, so, convert string to hex and then to binary\n",
    "\n",
    "#HEX BLOCK 1\n",
    "hex_block = \"\".join(hex(ord(x))[2:] for x in chunks[0])\n",
    "hex_block = \"\"+ hex_block\n",
    "print(\"Block being encrypted: \" + chunks[0])\n",
    "print(\"Block in hexadecimal: \" + hex_block)\n",
    "\n",
    "#BINARY\n",
    "bin_block = hexToBinary(hex_block)\n",
    "print(\"Block in binary: \" + bin_block)\n"
   ]
  },
  {
   "cell_type": "markdown",
   "id": "0b92bfeb-329b-43cc-81c5-3bcfa7aec992",
   "metadata": {},
   "source": [
    "### 4) Initial Permutation"
   ]
  },
  {
   "cell_type": "code",
   "execution_count": 7,
   "id": "f4134e4a-1bcf-4b7f-8b6d-5abbdaf4c3e9",
   "metadata": {},
   "outputs": [
    {
     "name": "stdout",
     "output_type": "stream",
     "text": [
      "Block to-be permuted: 01100100\n",
      "Initial Permutation (IP):  11100000\n"
     ]
    }
   ],
   "source": [
    "initial_perm =  [2, 6, 3, 1, 4, 8, 5, 7]\n",
    "\n",
    "ip = permute(bin_block, initial_perm, 8)\n",
    "print(\"Block to-be permuted: \" + bin_block)\n",
    "print(\"Initial Permutation (IP): \", ip)\n",
    "        \n"
   ]
  },
  {
   "cell_type": "markdown",
   "id": "7ba524b6-7a40-4f65-99fc-bf0d51c2a9b4",
   "metadata": {},
   "source": [
    "### 5) F_k Function"
   ]
  },
  {
   "cell_type": "code",
   "execution_count": 10,
   "id": "91ae4296-2d86-47b4-b24b-6b7907fada77",
   "metadata": {},
   "outputs": [
    {
     "name": "stdout",
     "output_type": "stream",
     "text": [
      "\n",
      "Left of IP: 1110\n",
      "Right of IP: 0000\n",
      "\n",
      "Permute expansion table: 00000000\n",
      "XOR operation: 01110010\n",
      "S-Box: 0001\n",
      "P4 permutation: 0100\n",
      "\n",
      "F_k function: 1010\n"
     ]
    }
   ],
   "source": [
    "def f_k(bits, subkey):\n",
    "    left_bits = left_half(bits)\n",
    "    right_bits = right_half(bits)\n",
    "    \n",
    "    out_bits = permute(right_bits, expansion_table, 8)\n",
    "    print(\"\\nPermute expansion table: \" + out_bits)\n",
    "    out_bits = xor(out_bits, subkey)\n",
    "    print(\"XOR operation: \" + out_bits)\n",
    "    \n",
    "    out_bits = lookup_in_sbox(left_half(out_bits), S0) + lookup_in_sbox(right_half(out_bits), S1)\n",
    "    print(\"S-Box: \" + out_bits)\n",
    "    out_bits = permute(out_bits, perm_p4, 4)\n",
    "    print(\"P4 permutation: \" + out_bits)\n",
    "    \n",
    "    return xor(left_bits, out_bits)\n",
    "\n",
    "expansion_table = [4, 1, 2, 3, 2, 3, 4, 1]\n",
    "perm_p4 = [2, 4, 3, 1]\n",
    "\n",
    "S0 = [[1, 0, 3, 2],\n",
    "      [3, 2, 1, 0],\n",
    "      [0, 2, 1, 3],\n",
    "      [3, 1, 3, 2]]\n",
    "\n",
    "S1 = [[0, 1, 2, 3],\n",
    "      [2, 0, 1, 3],\n",
    "      [3, 0, 1, 0],\n",
    "      [2, 1, 0, 3]]\n",
    "\n",
    "\n",
    "left_ip = left_half(ip)\n",
    "print(\"\\nLeft of IP: \" + left_ip)\n",
    "right_ip = right_half(ip)\n",
    "print(\"Right of IP: \" + right_ip)\n",
    "\n",
    "fk_1 = f_k(ip, subkey_1)\n",
    "print(\"\\nF_k function: \" + fk_1)"
   ]
  },
  {
   "cell_type": "markdown",
   "id": "debb7669-5a0c-4900-91c4-82a06520347b",
   "metadata": {},
   "source": [
    "### 6) The Switch Function"
   ]
  },
  {
   "cell_type": "code",
   "execution_count": 12,
   "id": "00cacd06-8560-4dcb-913a-e01d43c62028",
   "metadata": {},
   "outputs": [
    {
     "name": "stdout",
     "output_type": "stream",
     "text": [
      "Switch Function: 00001010\n",
      "\n",
      "Permute expansion table: 01010101\n",
      "XOR operation: 01001111\n",
      "S-Box: 1111\n",
      "P4 permutation: 1111\n",
      "\n",
      "F_k function: 1111\n",
      "Output: 11111010\n"
     ]
    }
   ],
   "source": [
    "def switch(leftbits, rightbits):\n",
    "    return rightbits + leftbits\n",
    "\n",
    "switched_bits = switch(fk_1, right_half(ip))\n",
    "print(\"Switch Function: \" + switched_bits)\n",
    "\n",
    "fk_2 = f_k(switched_bits, subkey_2)\n",
    "print(\"\\nF_k function: \" + fk_2)\n",
    "\n",
    "print(\"Output: \" + fk_2 + fk_1)"
   ]
  },
  {
   "cell_type": "markdown",
   "id": "ce838e6c-5107-4106-b6e4-2a5580374bb0",
   "metadata": {},
   "source": [
    "### 8) Inverse Permutation"
   ]
  },
  {
   "cell_type": "code",
   "execution_count": 15,
   "id": "a5640437-6718-464a-b9c8-a5e1048a9945",
   "metadata": {},
   "outputs": [
    {
     "name": "stdout",
     "output_type": "stream",
     "text": [
      "Ciphertext: 11111100\n"
     ]
    }
   ],
   "source": [
    "inverse_perm = [4, 1, 3, 5, 7, 2, 8, 6]\n",
    "\n",
    "fk_final = fk_2 + fk_1\n",
    "ciphertext = permute(fk_final, inverse_perm, 8)\n",
    "print(\"Ciphertext: \" + ciphertext)"
   ]
  },
  {
   "cell_type": "code",
   "execution_count": null,
   "id": "d7f2d708-8b22-413d-86c3-059bcbd418fd",
   "metadata": {},
   "outputs": [],
   "source": []
  }
 ],
 "metadata": {
  "kernelspec": {
   "display_name": "Python 3 (ipykernel)",
   "language": "python",
   "name": "python3"
  },
  "language_info": {
   "codemirror_mode": {
    "name": "ipython",
    "version": 3
   },
   "file_extension": ".py",
   "mimetype": "text/x-python",
   "name": "python",
   "nbconvert_exporter": "python",
   "pygments_lexer": "ipython3",
   "version": "3.11.5"
  }
 },
 "nbformat": 4,
 "nbformat_minor": 5
}
